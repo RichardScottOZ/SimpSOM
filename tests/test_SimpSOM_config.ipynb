{
 "cells": [
  {
   "cell_type": "code",
   "execution_count": null,
   "metadata": {},
   "outputs": [],
   "source": [
    "from IPython.core.display import display, HTML\n",
    "display(HTML('<style>.container {width: 90% !important; }</style>'))"
   ]
  },
  {
   "cell_type": "code",
   "execution_count": null,
   "metadata": {},
   "outputs": [],
   "source": [
    "import sys\n",
    "sys.path.append(\"../../simpsom\")\n",
    "import simpsom as sps\n",
    "\n",
    "import pandas as pd\n",
    "import numpy as np"
   ]
  },
  {
   "cell_type": "code",
   "execution_count": null,
   "metadata": {},
   "outputs": [],
   "source": [
    "from sklearn.datasets import load_digits\n",
    "digits = load_digits()\n",
    "df = pd.DataFrame(digits.data, columns=digits.feature_names)\n",
    "labels = digits.target\n",
    "data = np.array(df)"
   ]
  },
  {
   "cell_type": "code",
   "execution_count": null,
   "metadata": {},
   "outputs": [],
   "source": [
    "net = sps.SOMNet(10, 10, data, PBC=False, init='PCA', metric='cosine', random_seed=42, GPU=False, debug=True)\n",
    "net.train(train_algo='online', start_learning_rate=0.01, epochs=10, batch_size=-1) # train_algo='batch' #early_stop='mapdiff' #batch_size=-1\n",
    "\n",
    "net = sps.SOMNet(10, 10, data, PBC=False, init='PCA', metric='euclidean', random_seed=42, GPU=False, debug=True)\n",
    "net.train(train_algo='online', start_learning_rate=0.01, epochs=10, batch_size=-1) # train_algo='batch' #early_stop='mapdiff' #batch_size=-1\n",
    "\n",
    "net = sps.SOMNet(10, 10, data, PBC=True, init='PCA', metric='manhattan', random_seed=42, GPU=False, debug=True)\n",
    "net.train(train_algo='online', start_learning_rate=0.01, epochs=10, batch_size=-1) # train_algo='batch' #early_stop='mapdiff' #batch_size=-1"
   ]
  },
  {
   "cell_type": "code",
   "execution_count": null,
   "metadata": {},
   "outputs": [],
   "source": [
    "net = sps.SOMNet(10, 10, data, PBC=False, init='PCA', metric='cosine', random_seed=42, GPU=False, debug=True)\n",
    "net.train(train_algo='batch', start_learning_rate=0.01, epochs=10, batch_size=-1) # train_algo='batch' #early_stop='mapdiff' #batch_size=-1\n",
    "\n",
    "net = sps.SOMNet(10, 10, data, PBC=False, init='PCA', metric='euclidean', random_seed=42, GPU=False, debug=True)\n",
    "net.train(train_algo='batch', start_learning_rate=0.01, epochs=10, batch_size=-1) # train_algo='batch' #early_stop='mapdiff' #batch_size=-1\n",
    "\n",
    "net = sps.SOMNet(10, 10, data, PBC=True, init='PCA', metric='manhattan', random_seed=42, GPU=False, debug=True)\n",
    "net.train(train_algo='batch', start_learning_rate=0.01, epochs=10, batch_size=-1) # train_algo='batch' #early_stop='mapdiff' #batch_size=-1"
   ]
  },
  {
   "cell_type": "code",
   "execution_count": null,
   "metadata": {},
   "outputs": [],
   "source": [
    "net.plot_map_by_feature(feature=1, show=True, print_out=False)"
   ]
  },
  {
   "cell_type": "code",
   "execution_count": null,
   "metadata": {},
   "outputs": [],
   "source": [
    "_ = net.plot_map_by_difference(show=True, print_out=False, returns=False)"
   ]
  },
  {
   "cell_type": "code",
   "execution_count": null,
   "metadata": {},
   "outputs": [],
   "source": [
    "_ = net.plot_projected_points(net.project_onto_map(data), \n",
    "                             project=False, jitter=True, \n",
    "                             show=True, print_out=False)\n",
    "_ = net.plot_projected_points(data, color_val=[n.difference for n in net.node_list],\n",
    "                             project=True, jitter=True, \n",
    "                             show=True, print_out=False)"
   ]
  },
  {
   "cell_type": "code",
   "execution_count": null,
   "metadata": {
    "scrolled": true
   },
   "outputs": [],
   "source": [
    "labs, points = net.cluster(data, algorithm='AgglomerativeClustering')\n",
    "net.plot_clusters(data, labs, project=True, show=True)"
   ]
  },
  {
   "cell_type": "code",
   "execution_count": null,
   "metadata": {},
   "outputs": [],
   "source": [
    "net = sps.SOMNet(10, 10, data, PBC=False, init='PCA', metric='cosine', random_seed=41, GPU=False, debug=True)\n",
    "net.train(train_algo='batch', start_learning_rate=0.01, epochs=10, batch_size=-1, early_stop='mapdiff')"
   ]
  },
  {
   "cell_type": "code",
   "execution_count": null,
   "metadata": {},
   "outputs": [],
   "source": [
    "net.plot_convergence(fsize=(5, 5), logax=False)"
   ]
  },
  {
   "cell_type": "code",
   "execution_count": null,
   "metadata": {},
   "outputs": [],
   "source": [
    "from sklearn.datasets import load_digits\n",
    "digits = load_digits()\n",
    "df = pd.DataFrame(digits.data, columns=digits.feature_names)\n",
    "labels = digits.target\n",
    "data = np.array(df)"
   ]
  },
  {
   "cell_type": "code",
   "execution_count": null,
   "metadata": {},
   "outputs": [],
   "source": [
    "net = sps.SOMNet(10, 10, data, PBC=False, init='PCA', metric='cosine', random_seed=42, GPU=False, debug=True, topology=\"rectangular\")\n",
    "net.train(train_algo='online', start_learning_rate=0.01, epochs=10, batch_size=-1) # train_algo='batch' #early_stop='mapdiff' #batch_size=-1\n",
    "\n",
    "net = sps.SOMNet(10, 10, data, PBC=False, init='PCA', metric='euclidean', random_seed=42, GPU=False, debug=True, topology=\"rectangular\")\n",
    "net.train(train_algo='online', start_learning_rate=0.01, epochs=10, batch_size=-1) # train_algo='batch' #early_stop='mapdiff' #batch_size=-1\n",
    "\n",
    "net = sps.SOMNet(10, 10, data, PBC=True, init='PCA', metric='manhattan', random_seed=42, GPU=False, debug=True, topology=\"rectangular\")\n",
    "net.train(train_algo='online', start_learning_rate=0.01, epochs=10, batch_size=-1) # train_algo='batch' #early_stop='mapdiff' #batch_size=-1"
   ]
  },
  {
   "cell_type": "code",
   "execution_count": null,
   "metadata": {},
   "outputs": [],
   "source": [
    "net = sps.SOMNet(10, 10, data, PBC=False, init='PCA', metric='cosine', random_seed=42, GPU=False, debug=True, topology=\"rectangular\")\n",
    "net.train(train_algo='batch', start_learning_rate=0.01, epochs=10, batch_size=-1) # train_algo='batch' #early_stop='mapdiff' #batch_size=-1\n",
    "\n",
    "net = sps.SOMNet(10, 10, data, PBC=False, init='PCA', metric='euclidean', random_seed=42, GPU=False, debug=True, topology=\"rectangular\")\n",
    "net.train(train_algo='batch', start_learning_rate=0.01, epochs=10, batch_size=-1) # train_algo='batch' #early_stop='mapdiff' #batch_size=-1\n",
    "\n",
    "net = sps.SOMNet(10, 10, data, PBC=True, init='PCA', metric='manhattan', random_seed=42, GPU=False, debug=True, topology=\"rectangular\")\n",
    "net.train(train_algo='batch', start_learning_rate=0.01, epochs=10, batch_size=-1) # train_algo='batch' #early_stop='mapdiff' #batch_size=-1"
   ]
  },
  {
   "cell_type": "code",
   "execution_count": null,
   "metadata": {},
   "outputs": [],
   "source": [
    "net.plot_map_by_feature(feature=2, show=True, print_out=False)"
   ]
  },
  {
   "cell_type": "code",
   "execution_count": null,
   "metadata": {},
   "outputs": [],
   "source": [
    "_ = net.plot_map_by_difference(show=True, print_out=False, returns=False)"
   ]
  },
  {
   "cell_type": "code",
   "execution_count": null,
   "metadata": {},
   "outputs": [],
   "source": [
    "_ = net.plot_projected_points(net.project_onto_map(data), \n",
    "                             project=False, jitter=True, \n",
    "                             show=True, print_out=False)\n",
    "_ = net.plot_projected_points(data, color_val=[n.difference for n in net.node_list],\n",
    "                             project=True, jitter=True, \n",
    "                             show=True, print_out=False)"
   ]
  },
  {
   "cell_type": "code",
   "execution_count": null,
   "metadata": {
    "scrolled": true
   },
   "outputs": [],
   "source": [
    "labs, points = net.cluster(data, algorithm='DBSCAN')\n",
    "net.plot_clusters(data, labs, project=True, show=True)"
   ]
  },
  {
   "cell_type": "code",
   "execution_count": null,
   "metadata": {},
   "outputs": [],
   "source": [
    "net = sps.SOMNet(10, 10, data, PBC=False, init='PCA', metric='cosine', random_seed=42, GPU=False, debug=True)\n",
    "net.train(train_algo='batch', start_learning_rate=0.01, epochs=10, batch_size=-1, early_stop='mapdiff')"
   ]
  },
  {
   "cell_type": "code",
   "execution_count": null,
   "metadata": {},
   "outputs": [],
   "source": [
    "net.plot_convergence(fsize=(5, 5), logax=False)"
   ]
  }
 ],
 "metadata": {
  "kernelspec": {
   "display_name": "Python 3",
   "language": "python",
   "name": "python3"
  },
  "language_info": {
   "codemirror_mode": {
    "name": "ipython",
    "version": 3
   },
   "file_extension": ".py",
   "mimetype": "text/x-python",
   "name": "python",
   "nbconvert_exporter": "python",
   "pygments_lexer": "ipython3",
   "version": "3.7.6"
  }
 },
 "nbformat": 4,
 "nbformat_minor": 4
}
