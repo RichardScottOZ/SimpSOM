{
 "cells": [
  {
   "cell_type": "code",
   "execution_count": 1,
   "metadata": {},
   "outputs": [
    {
     "data": {
      "text/html": [
       "<style>.container {width: 90% !important; }</style>"
      ],
      "text/plain": [
       "<IPython.core.display.HTML object>"
      ]
     },
     "metadata": {},
     "output_type": "display_data"
    }
   ],
   "source": [
    "from IPython.core.display import display, HTML\n",
    "display(HTML('<style>.container {width: 90% !important; }</style>'))"
   ]
  },
  {
   "cell_type": "code",
   "execution_count": 2,
   "metadata": {},
   "outputs": [],
   "source": [
    "import sys\n",
    "sys.path.append(\"../../simpsom\")\n",
    "import simpsom as sps\n",
    "\n",
    "import pandas as pd\n",
    "import numpy as np"
   ]
  },
  {
   "cell_type": "code",
   "execution_count": 3,
   "metadata": {},
   "outputs": [],
   "source": [
    "from sklearn.datasets import load_digits\n",
    "digits = load_digits()\n",
    "df = pd.DataFrame(digits.data, columns=digits.feature_names)\n",
    "labels = digits.target\n",
    "data = np.array(df)"
   ]
  },
  {
   "cell_type": "code",
   "execution_count": 7,
   "metadata": {},
   "outputs": [],
   "source": [
    "def run_experiment(data, PBC=True, init='PCA', metric='euclidean', topology='hexagonal', \n",
    "               GPU=False, neighborhood_fun='gaussian', train_algo='batch', early_stop=None,\n",
    "               plotall=False, size=10, epochs=1000):\n",
    "\n",
    "    net = sps.SOMNet(size, size, data, topology=topology, PBC=PBC, init=init, metric=metric, random_seed=32, GPU=GPU, debug=True)\n",
    "    net.train(train_algo=train_algo, start_learning_rate=0.01, epochs=epochs, batch_size=-1, early_stop=early_stop)\n",
    "    #net.save_map('pippo')\n",
    "    if plotall:\n",
    "\n",
    "        net.plot_map_by_feature(feature=1, show=True, print_out=False)\n",
    "        _ = net.plot_map_by_difference(show=True, print_out=False, returns=False)\n",
    "\n",
    "        _ = net.plot_projected_points(net.project_onto_map(data), \n",
    "                                     project=False, jitter=True, \n",
    "                                     show=True, print_out=False)\n",
    "        _ = net.plot_projected_points(data, color_val=[n.difference for n in net.nodes_list],\n",
    "                                     project=True, jitter=True, \n",
    "                                     show=True, print_out=False)\n",
    "\n",
    "        labs, points = net.cluster(data, algorithm='AgglomerativeClustering')\n",
    "        net.plot_clusters(data, labs, project=True, show=True)\n",
    "        labs, points = net.cluster(data, algorithm='DBSCAN')\n",
    "        net.plot_clusters(data, labs, project=True, show=True)\n",
    "        labs, points = net.cluster(data, algorithm='KMeans')\n",
    "        net.plot_clusters(data, labs, project=True, show=True)\n",
    "\n",
    "        net.plot_convergence(fsize=(5, 5), logax=False)"
   ]
  },
  {
   "cell_type": "code",
   "execution_count": 10,
   "metadata": {},
   "outputs": [],
   "source": [
    "GPU=False\n",
    "\n",
    "confs = [\n",
    "{'PBC': False, 'init':'PCA', 'metric':'euclidean', 'topology':'hexagonal', 'GPU':GPU, 'neighborhood_fun':'gaussian', 'train_algo':'online', 'early_stop':None, 'plotall':False},\n",
    "# {'PBC': False, 'init':'PCA', 'metric':'cosine', 'topology':'hexagonal', 'GPU':GPU, 'neighborhood_fun':'gaussian', 'train_algo':'online', 'early_stop':None, 'plotall':False},\n",
    "# {'PBC': False, 'init':'PCA', 'metric':'manhattan', 'topology':'hexagonal', 'GPU':GPU, 'neighborhood_fun':'gaussian', 'train_algo':'online', 'early_stop':None, 'plotall':False},\n",
    "# {'PBC': False, 'init':'random', 'metric':'euclidean', 'topology':'hexagonal', 'GPU':GPU, 'neighborhood_fun':'gaussian', 'train_algo':'online', 'early_stop':None, 'plotall':False},\n",
    "# {'PBC': False, 'init':(np.array([[0,1]]*data.shape[1])).T, 'metric':'euclidean', 'topology':'hexagonal', 'GPU':GPU, 'neighborhood_fun':'gaussian', 'train_algo':'online', 'early_stop':None, 'plotall':False},\n",
    "# {'PBC': True, 'init':'PCA', 'metric':'euclidean', 'topology':'hexagonal', 'GPU':GPU, 'neighborhood_fun':'gaussian', 'train_algo':'online', 'early_stop':None, 'plotall':False},\n",
    "# {'PBC': False, 'init':'PCA', 'metric':'euclidean', 'topology':'square', 'GPU':GPU, 'neighborhood_fun':'gaussian', 'train_algo':'online', 'early_stop':None, 'plotall':False},\n",
    "# {'PBC': False, 'init':'PCA', 'metric':'euclidean', 'topology':'hexagonal', 'GPU':GPU, 'neighborhood_fun':'mexican', 'train_algo':'online', 'early_stop':None, 'plotall':False},\n",
    "# {'PBC': False, 'init':'PCA', 'metric':'euclidean', 'topology':'hexagonal', 'GPU':GPU, 'neighborhood_fun':'bubble', 'train_algo':'online', 'early_stop':None, 'plotall':False},\n",
    "# {'PBC': False, 'init':'PCA', 'metric':'euclidean', 'topology':'hexagonal', 'GPU':GPU, 'neighborhood_fun':'gaussian', 'train_algo':'batch', 'early_stop':None, 'plotall':False},\n",
    "# {'PBC': True, 'init':'PCA', 'metric':'euclidean', 'topology':'square', 'GPU':GPU, 'neighborhood_fun':'gaussian', 'train_algo':'online', 'early_stop':None, 'plotall':False},\n",
    "# {'PBC': True, 'init':'PCA', 'metric':'euclidean', 'topology':'hexagonal', 'GPU':GPU, 'neighborhood_fun':'gaussian', 'train_algo':'batch', 'early_stop':None, 'plotall':False},\n",
    "# {'PBC': False, 'init':'PCA', 'metric':'cosine', 'topology':'hexagonal', 'GPU':GPU, 'neighborhood_fun':'gaussian', 'train_algo':'batch', 'early_stop':None, 'plotall':False},\n",
    "# {'PBC': False, 'init':'PCA', 'metric':'manhattan', 'topology':'hexagonal', 'GPU':GPU, 'neighborhood_fun':'gaussian', 'train_algo':'batch', 'early_stop':None, 'plotall':False},\n",
    "# {'PBC': False, 'init':'PCA', 'metric':'euclidean', 'topology':'hexagonal', 'GPU':GPU, 'neighborhood_fun':'gaussian', 'train_algo':'online', 'early_stop':'bmudiff', 'plotall':False},\n",
    "# {'PBC': False, 'init':'PCA', 'metric':'euclidean', 'topology':'hexagonal', 'GPU':GPU, 'neighborhood_fun':'gaussian', 'train_algo':'online', 'early_stop':'mapdiff', 'plotall':False}, \n",
    "# {'PBC': True, 'init':'PCA', 'metric':'euclidean', 'topology':'square', 'GPU':GPU, 'neighborhood_fun':'gaussian', 'train_algo':'online', 'early_stop':None, 'plotall':True},\n",
    "# {'PBC': False, 'init':'PCA', 'metric':'euclidean', 'topology':'hexagonal', 'GPU':GPU, 'neighborhood_fun':'gaussian', 'train_algo':'batch', 'early_stop':'mapdiff', 'plotall':True},\n",
    "# {'PBC': False, 'init':'PCA', 'metric':'euclidean', 'topology':'square', 'GPU':GPU, 'neighborhood_fun':'gaussian', 'train_algo':'online', 'early_stop':None, 'plotall':True},\n",
    "]"
   ]
  },
  {
   "cell_type": "code",
   "execution_count": 11,
   "metadata": {
    "tags": []
   },
   "outputs": [
    {
     "name": "stderr",
     "output_type": "stream",
     "text": [
      "2022-07-06 11:05:02.367 | INFO     | simpsom.network:__init__:117 - Hexagonal topology.\n",
      "2022-07-06 11:05:02.368 | WARNING  | simpsom.network:_set_weights:177 - Please be sure that the data have been standardized before using PCA.\n",
      "2022-07-06 11:05:02.369 | INFO     | simpsom.network:_set_weights:178 - The weights will be initialized with PCA.\n",
      "2022-07-06 11:05:02.379 | INFO     | simpsom.network:train:365 - The map will be trained with the online algorithm.\n",
      "2022-07-06 11:05:02.381 | WARNING  | simpsom.network:_randomize_dataset:272 - Epochs for online training are less than the input datapoints.\n",
      "Training SOM... 0%2.383 | DEBUG    | simpsom.network:train:393 - \n",
      "Training SOM... 1%2.418 | DEBUG    | simpsom.network:train:393 - \n",
      "Training SOM... 2%2.440 | DEBUG    | simpsom.network:train:393 - \n",
      "Training SOM... 3%2.462 | DEBUG    | simpsom.network:train:393 - \n",
      "Training SOM... 4%2.486 | DEBUG    | simpsom.network:train:393 - \n",
      "Training SOM... 5%2.509 | DEBUG    | simpsom.network:train:393 - \n",
      "Training SOM... 6%2.532 | DEBUG    | simpsom.network:train:393 - \n",
      "Training SOM... 7%2.554 | DEBUG    | simpsom.network:train:393 - \n"
     ]
    },
    {
     "name": "stdout",
     "output_type": "stream",
     "text": [
      "CPU\n",
      "{'PBC': False, 'init': 'PCA', 'metric': 'euclidean', 'topology': 'hexagonal', 'GPU': False, 'neighborhood_fun': 'gaussian', 'train_algo': 'online', 'early_stop': None, 'plotall': False}\n"
     ]
    },
    {
     "name": "stderr",
     "output_type": "stream",
     "text": [
      "Training SOM... 8%2.576 | DEBUG    | simpsom.network:train:393 - \n",
      "Training SOM... 9%2.598 | DEBUG    | simpsom.network:train:393 - \n",
      "Training SOM... 10%.620 | DEBUG    | simpsom.network:train:393 - \n",
      "Training SOM... 11%.641 | DEBUG    | simpsom.network:train:393 - \n",
      "Training SOM... 12%.664 | DEBUG    | simpsom.network:train:393 - \n",
      "Training SOM... 13%.686 | DEBUG    | simpsom.network:train:393 - \n",
      "Training SOM... 14%.707 | DEBUG    | simpsom.network:train:393 - \n",
      "Training SOM... 15%.727 | DEBUG    | simpsom.network:train:393 - \n",
      "Training SOM... 16%.748 | DEBUG    | simpsom.network:train:393 - \n",
      "Training SOM... 17%.769 | DEBUG    | simpsom.network:train:393 - \n",
      "Training SOM... 18%.789 | DEBUG    | simpsom.network:train:393 - \n",
      "Training SOM... 19%.810 | DEBUG    | simpsom.network:train:393 - \n",
      "Training SOM... 20%.831 | DEBUG    | simpsom.network:train:393 - \n",
      "Training SOM... 21%.851 | DEBUG    | simpsom.network:train:393 - \n",
      "Training SOM... 22%.871 | DEBUG    | simpsom.network:train:393 - \n",
      "Training SOM... 23%.892 | DEBUG    | simpsom.network:train:393 - \n",
      "Training SOM... 24%.912 | DEBUG    | simpsom.network:train:393 - \n",
      "Training SOM... 25%.933 | DEBUG    | simpsom.network:train:393 - \n",
      "Training SOM... 26%.954 | DEBUG    | simpsom.network:train:393 - \n",
      "Training SOM... 27%.974 | DEBUG    | simpsom.network:train:393 - \n",
      "Training SOM... 28%.995 | DEBUG    | simpsom.network:train:393 - \n",
      "Training SOM... 29%.017 | DEBUG    | simpsom.network:train:393 - \n",
      "Training SOM... 30%.038 | DEBUG    | simpsom.network:train:393 - \n",
      "Training SOM... 31%.060 | DEBUG    | simpsom.network:train:393 - \n",
      "Training SOM... 32%.082 | DEBUG    | simpsom.network:train:393 - \n",
      "Training SOM... 33%.103 | DEBUG    | simpsom.network:train:393 - \n",
      "Training SOM... 34%.125 | DEBUG    | simpsom.network:train:393 - \n",
      "Training SOM... 35%.147 | DEBUG    | simpsom.network:train:393 - \n",
      "Training SOM... 36%.169 | DEBUG    | simpsom.network:train:393 - \n",
      "Training SOM... 37%.192 | DEBUG    | simpsom.network:train:393 - \n",
      "Training SOM... 38%.214 | DEBUG    | simpsom.network:train:393 - \n",
      "Training SOM... 39%.235 | DEBUG    | simpsom.network:train:393 - \n",
      "Training SOM... 40%.256 | DEBUG    | simpsom.network:train:393 - \n",
      "Training SOM... 41%.277 | DEBUG    | simpsom.network:train:393 - \n",
      "Training SOM... 42%.299 | DEBUG    | simpsom.network:train:393 - \n",
      "Training SOM... 43%.320 | DEBUG    | simpsom.network:train:393 - \n",
      "Training SOM... 44%.341 | DEBUG    | simpsom.network:train:393 - \n",
      "Training SOM... 45%.363 | DEBUG    | simpsom.network:train:393 - \n",
      "Training SOM... 46%.384 | DEBUG    | simpsom.network:train:393 - \n",
      "Training SOM... 47%.405 | DEBUG    | simpsom.network:train:393 - \n",
      "Training SOM... 48%.427 | DEBUG    | simpsom.network:train:393 - \n",
      "Training SOM... 49%.448 | DEBUG    | simpsom.network:train:393 - \n",
      "Training SOM... 50%.471 | DEBUG    | simpsom.network:train:393 - \n",
      "Training SOM... 51%.493 | DEBUG    | simpsom.network:train:393 - \n",
      "Training SOM... 52%.514 | DEBUG    | simpsom.network:train:393 - \n",
      "Training SOM... 53%.536 | DEBUG    | simpsom.network:train:393 - \n",
      "Training SOM... 54%.558 | DEBUG    | simpsom.network:train:393 - \n",
      "Training SOM... 55%.579 | DEBUG    | simpsom.network:train:393 - \n",
      "Training SOM... 56%.600 | DEBUG    | simpsom.network:train:393 - \n",
      "Training SOM... 57%.621 | DEBUG    | simpsom.network:train:393 - \n",
      "Training SOM... 58%.642 | DEBUG    | simpsom.network:train:393 - \n",
      "Training SOM... 59%.663 | DEBUG    | simpsom.network:train:393 - \n",
      "Training SOM... 60%.685 | DEBUG    | simpsom.network:train:393 - \n",
      "Training SOM... 61%.707 | DEBUG    | simpsom.network:train:393 - \n",
      "Training SOM... 62%.728 | DEBUG    | simpsom.network:train:393 - \n",
      "Training SOM... 63%.750 | DEBUG    | simpsom.network:train:393 - \n",
      "Training SOM... 64%.772 | DEBUG    | simpsom.network:train:393 - \n",
      "Training SOM... 65%.794 | DEBUG    | simpsom.network:train:393 - \n",
      "Training SOM... 66%.816 | DEBUG    | simpsom.network:train:393 - \n",
      "Training SOM... 67%.838 | DEBUG    | simpsom.network:train:393 - \n",
      "Training SOM... 68%.861 | DEBUG    | simpsom.network:train:393 - \n",
      "Training SOM... 69%.882 | DEBUG    | simpsom.network:train:393 - \n",
      "Training SOM... 70%.904 | DEBUG    | simpsom.network:train:393 - \n",
      "Training SOM... 71%.926 | DEBUG    | simpsom.network:train:393 - \n",
      "Training SOM... 72%.947 | DEBUG    | simpsom.network:train:393 - \n",
      "Training SOM... 73%.968 | DEBUG    | simpsom.network:train:393 - \n",
      "Training SOM... 74%.989 | DEBUG    | simpsom.network:train:393 - \n",
      "Training SOM... 75%.010 | DEBUG    | simpsom.network:train:393 - \n",
      "Training SOM... 76%.033 | DEBUG    | simpsom.network:train:393 - \n",
      "Training SOM... 77%.054 | DEBUG    | simpsom.network:train:393 - \n",
      "Training SOM... 78%.075 | DEBUG    | simpsom.network:train:393 - \n",
      "Training SOM... 79%.097 | DEBUG    | simpsom.network:train:393 - \n",
      "Training SOM... 80%.120 | DEBUG    | simpsom.network:train:393 - \n",
      "Training SOM... 81%.141 | DEBUG    | simpsom.network:train:393 - \n",
      "Training SOM... 82%.162 | DEBUG    | simpsom.network:train:393 - \n",
      "Training SOM... 83%.185 | DEBUG    | simpsom.network:train:393 - \n",
      "Training SOM... 84%.207 | DEBUG    | simpsom.network:train:393 - \n",
      "Training SOM... 85%.229 | DEBUG    | simpsom.network:train:393 - \n",
      "Training SOM... 86%.250 | DEBUG    | simpsom.network:train:393 - \n",
      "Training SOM... 87%.271 | DEBUG    | simpsom.network:train:393 - \n",
      "Training SOM... 88%.294 | DEBUG    | simpsom.network:train:393 - \n",
      "Training SOM... 89%.315 | DEBUG    | simpsom.network:train:393 - \n",
      "Training SOM... 90%.337 | DEBUG    | simpsom.network:train:393 - \n",
      "Training SOM... 91%.359 | DEBUG    | simpsom.network:train:393 - \n",
      "Training SOM... 92%.381 | DEBUG    | simpsom.network:train:393 - \n",
      "Training SOM... 93%.402 | DEBUG    | simpsom.network:train:393 - \n",
      "Training SOM... 94%.424 | DEBUG    | simpsom.network:train:393 - \n",
      "Training SOM... 95%.445 | DEBUG    | simpsom.network:train:393 - \n",
      "Training SOM... 96%.466 | DEBUG    | simpsom.network:train:393 - \n",
      "Training SOM... 97%.487 | DEBUG    | simpsom.network:train:393 - \n",
      "Training SOM... 98%.510 | DEBUG    | simpsom.network:train:393 - \n",
      "Training SOM... 99%.532 | DEBUG    | simpsom.network:train:393 - \n",
      "2022-07-06 11:05:04.553 | INFO     | simpsom.network:save_map:295 - Map shape and weights will be saved to:\n",
      "./pippo.npz\n"
     ]
    },
    {
     "name": "stdout",
     "output_type": "stream",
     "text": [
      "All CPU tests done!\n"
     ]
    }
   ],
   "source": [
    "print('CPU')\n",
    "for conf in confs:\n",
    "    print(conf)\n",
    "    run_experiment(data, **conf)\n",
    "print('All CPU tests done!')"
   ]
  },
  {
   "cell_type": "code",
   "execution_count": 15,
   "metadata": {},
   "outputs": [
    {
     "data": {
      "text/plain": [
       "1.0"
      ]
     },
     "execution_count": 15,
     "metadata": {},
     "output_type": "execute_result"
    }
   ],
   "source": [
    "float(True)"
   ]
  },
  {
   "cell_type": "code",
   "execution_count": null,
   "metadata": {},
   "outputs": [],
   "source": [
    "try:\n",
    "    import cupy\n",
    "    print('GPU')\n",
    "    for conf in confs:\n",
    "        print(conf)\n",
    "        conf['GPU']=True\n",
    "        run_experiment(data, **conf)\n",
    "    print('All GPU tests done!')\n",
    "except ImportError:\n",
    "    print('No CuPy found, GPU tests will be skipped')"
   ]
  },
  {
   "cell_type": "code",
   "execution_count": null,
   "metadata": {},
   "outputs": [],
   "source": []
  }
 ],
 "metadata": {
  "kernelspec": {
   "display_name": "Python 3",
   "language": "python",
   "name": "python3"
  },
  "language_info": {
   "codemirror_mode": {
    "name": "ipython",
    "version": 3
   },
   "file_extension": ".py",
   "mimetype": "text/x-python",
   "name": "python",
   "nbconvert_exporter": "python",
   "pygments_lexer": "ipython3",
   "version": "3.7.6"
  }
 },
 "nbformat": 4,
 "nbformat_minor": 4
}
